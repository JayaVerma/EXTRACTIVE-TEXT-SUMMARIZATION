{
 "cells": [
  {
   "cell_type": "markdown",
   "id": "0ea5de93",
   "metadata": {},
   "source": [
    "# Basic step to follow for text summaries "
   ]
  },
  {
   "cell_type": "code",
   "execution_count": 2,
   "id": "1f204814",
   "metadata": {},
   "outputs": [],
   "source": [
    "# text cleaning\n",
    "# sentence tokenization\n",
    "# word tokenisation\n",
    "# work frequency table\n",
    "# summarization"
   ]
  },
  {
   "cell_type": "markdown",
   "id": "1aea386e",
   "metadata": {},
   "source": [
    "# Installation of useful Libraries"
   ]
  },
  {
   "cell_type": "code",
   "execution_count": 3,
   "id": "dafb951b",
   "metadata": {},
   "outputs": [],
   "source": [
    "#!pip install -U spacy\n",
    "#!python -m spacy download en_core_web_sm"
   ]
  },
  {
   "cell_type": "markdown",
   "id": "d8bd1f20",
   "metadata": {},
   "source": [
    "# Input text"
   ]
  },
  {
   "cell_type": "code",
   "execution_count": 8,
   "id": "fab6c185",
   "metadata": {},
   "outputs": [],
   "source": [
    "text = \"\"\"\n",
    "Machine learning (ML) is a field of inquiry devoted to understanding and building methods that 'learn', \n",
    "that is, methods that leverage data to improve performance on some set of tasks.[1] \n",
    "It is seen as a part of artificial intelligence. Machine learning algorithms build a model based on sample data, \n",
    "known as training data, in order to make predictions or decisions without being explicitly programmed to do so.[2] \n",
    "Machine learning algorithms are used in a wide variety of applications, such as in medicine, email filtering, \n",
    "speech recognition, and computer vision, where it is difficult or unfeasible to develop conventional algorithms \n",
    "to perform the needed tasks.[3]\n",
    "\n",
    "A subset of machine learning is closely related to computational statistics, which focuses on making predictions \n",
    "using computers, but not all machine learning is statistical learning. The study of mathematical optimization \n",
    "delivers methods, theory and application domains to the field of machine learning. Data mining is a related field \n",
    "of study, focusing on exploratory data analysis through unsupervised learning.[5][6] Some implementations of machine \n",
    "learning use data and neural networks in a way that mimics the working of a biological brain.[7][8] In its \n",
    "application across business problems, machine learning is also referred to as predictive analytics.\n",
    "\"\"\""
   ]
  },
  {
   "cell_type": "markdown",
   "id": "dc6fc63f",
   "metadata": {},
   "source": [
    "# importing important libraries "
   ]
  },
  {
   "cell_type": "code",
   "execution_count": 9,
   "id": "cab4fe35",
   "metadata": {},
   "outputs": [],
   "source": [
    "import spacy\n",
    "#import spacy.lang.en.stop_words as STOP_WORDS\n"
   ]
  },
  {
   "cell_type": "code",
   "execution_count": 10,
   "id": "50c62e1e",
   "metadata": {},
   "outputs": [],
   "source": [
    "from string import punctuation\n",
    "import nltk\n",
    "from nltk.corpus import stopwords"
   ]
  },
  {
   "cell_type": "markdown",
   "id": "f6e665ad",
   "metadata": {},
   "source": [
    "# downloading stopwords from nltk lib"
   ]
  },
  {
   "cell_type": "code",
   "execution_count": 11,
   "id": "f26ba74d",
   "metadata": {},
   "outputs": [
    {
     "name": "stderr",
     "output_type": "stream",
     "text": [
      "[nltk_data] Downloading package stopwords to\n",
      "[nltk_data]     /Users/jayaverma/nltk_data...\n",
      "[nltk_data]   Package stopwords is already up-to-date!\n"
     ]
    },
    {
     "data": {
      "text/plain": [
       "True"
      ]
     },
     "execution_count": 11,
     "metadata": {},
     "output_type": "execute_result"
    }
   ],
   "source": [
    "nltk.download('stopwords')"
   ]
  },
  {
   "cell_type": "markdown",
   "id": "2360c5a1",
   "metadata": {},
   "source": [
    "# Text Cleaning/ Preprocessing "
   ]
  },
  {
   "cell_type": "code",
   "execution_count": 12,
   "id": "795a218f",
   "metadata": {},
   "outputs": [
    {
     "name": "stdout",
     "output_type": "stream",
     "text": [
      "['i', 'me', 'my', 'myself', 'we', 'our', 'ours', 'ourselves', 'you', \"you're\", \"you've\", \"you'll\", \"you'd\", 'your', 'yours', 'yourself', 'yourselves', 'he', 'him', 'his', 'himself', 'she', \"she's\", 'her', 'hers', 'herself', 'it', \"it's\", 'its', 'itself', 'they', 'them', 'their', 'theirs', 'themselves', 'what', 'which', 'who', 'whom', 'this', 'that', \"that'll\", 'these', 'those', 'am', 'is', 'are', 'was', 'were', 'be', 'been', 'being', 'have', 'has', 'had', 'having', 'do', 'does', 'did', 'doing', 'a', 'an', 'the', 'and', 'but', 'if', 'or', 'because', 'as', 'until', 'while', 'of', 'at', 'by', 'for', 'with', 'about', 'against', 'between', 'into', 'through', 'during', 'before', 'after', 'above', 'below', 'to', 'from', 'up', 'down', 'in', 'out', 'on', 'off', 'over', 'under', 'again', 'further', 'then', 'once', 'here', 'there', 'when', 'where', 'why', 'how', 'all', 'any', 'both', 'each', 'few', 'more', 'most', 'other', 'some', 'such', 'no', 'nor', 'not', 'only', 'own', 'same', 'so', 'than', 'too', 'very', 's', 't', 'can', 'will', 'just', 'don', \"don't\", 'should', \"should've\", 'now', 'd', 'll', 'm', 'o', 're', 've', 'y', 'ain', 'aren', \"aren't\", 'couldn', \"couldn't\", 'didn', \"didn't\", 'doesn', \"doesn't\", 'hadn', \"hadn't\", 'hasn', \"hasn't\", 'haven', \"haven't\", 'isn', \"isn't\", 'ma', 'mightn', \"mightn't\", 'mustn', \"mustn't\", 'needn', \"needn't\", 'shan', \"shan't\", 'shouldn', \"shouldn't\", 'wasn', \"wasn't\", 'weren', \"weren't\", 'won', \"won't\", 'wouldn', \"wouldn't\"]\n"
     ]
    }
   ],
   "source": [
    "stops = list(stopwords.words('english'))\n",
    "print(stops)"
   ]
  },
  {
   "cell_type": "code",
   "execution_count": 13,
   "id": "d07c6c10",
   "metadata": {},
   "outputs": [],
   "source": [
    "nlp = spacy.load('en_core_web_sm')"
   ]
  },
  {
   "cell_type": "code",
   "execution_count": 14,
   "id": "3ce94e43",
   "metadata": {},
   "outputs": [],
   "source": [
    "doc = nlp(text)"
   ]
  },
  {
   "cell_type": "code",
   "execution_count": 15,
   "id": "88205e3b",
   "metadata": {},
   "outputs": [
    {
     "name": "stdout",
     "output_type": "stream",
     "text": [
      "['\\n', 'Machine', 'learning', '(', 'ML', ')', 'is', 'a', 'field', 'of', 'inquiry', 'devoted', 'to', 'understanding', 'and', 'building', 'methods', 'that', \"'\", 'learn', \"'\", ',', 'that', 'is', ',', 'methods', 'that', 'leverage', 'data', 'to', 'improve', 'performance', 'on', 'some', 'set', 'of', 'tasks.[1', ']', 'It', 'is', 'seen', 'as', 'a', 'part', 'of', 'artificial', 'intelligence', '.', 'Machine', 'learning', 'algorithms', 'build', 'a', 'model', 'based', 'on', 'sample', 'data', ',', 'known', 'as', 'training', 'data', ',', 'in', 'order', 'to', 'make', 'predictions', 'or', 'decisions', 'without', 'being', 'explicitly', 'programmed', 'to', 'do', 'so.[2', ']', 'Machine', 'learning', 'algorithms', 'are', 'used', 'in', 'a', 'wide', 'variety', 'of', 'applications', ',', 'such', 'as', 'in', 'medicine', ',', 'email', 'filtering', ',', 'speech', 'recognition', ',', 'and', 'computer', 'vision', ',', 'where', 'it', 'is', 'difficult', 'or', 'unfeasible', 'to', 'develop', 'conventional', 'algorithms', 'to', 'perform', 'the', 'needed', 'tasks.[3', ']', '\\n\\n', 'A', 'subset', 'of', 'machine', 'learning', 'is', 'closely', 'related', 'to', 'computational', 'statistics', ',', 'which', 'focuses', 'on', 'making', 'predictions', 'using', 'computers', ',', 'but', 'not', 'all', 'machine', 'learning', 'is', 'statistical', 'learning', '.', 'The', 'study', 'of', 'mathematical', 'optimization', 'delivers', 'methods', ',', 'theory', 'and', 'application', 'domains', 'to', 'the', 'field', 'of', 'machine', 'learning', '.', 'Data', 'mining', 'is', 'a', 'related', 'field', 'of', 'study', ',', 'focusing', 'on', 'exploratory', 'data', 'analysis', 'through', 'unsupervised', 'learning.[5][6', ']', 'Some', 'implementations', 'of', 'machine', 'learning', 'use', 'data', 'and', 'neural', 'networks', 'in', 'a', 'way', 'that', 'mimics', 'the', 'working', 'of', 'a', 'biological', 'brain.[7][8', ']', 'In', 'its', 'application', 'across', 'business', 'problems', ',', 'machine', 'learning', 'is', 'also', 'referred', 'to', 'as', 'predictive', 'analytics', '.', '\\n']\n"
     ]
    }
   ],
   "source": [
    "tokens = [token.text for token in doc]\n",
    "print(tokens)"
   ]
  },
  {
   "cell_type": "code",
   "execution_count": 16,
   "id": "b896d202",
   "metadata": {},
   "outputs": [
    {
     "data": {
      "text/plain": [
       "'!\"#$%&\\'()*+,-./:;<=>?@[\\\\]^_`{|}~'"
      ]
     },
     "execution_count": 16,
     "metadata": {},
     "output_type": "execute_result"
    }
   ],
   "source": [
    "punctuation"
   ]
  },
  {
   "cell_type": "code",
   "execution_count": 17,
   "id": "a5372a7d",
   "metadata": {},
   "outputs": [],
   "source": [
    "punctuation = punctuation + '\\n'"
   ]
  },
  {
   "cell_type": "code",
   "execution_count": 18,
   "id": "2a38359a",
   "metadata": {},
   "outputs": [
    {
     "data": {
      "text/plain": [
       "'!\"#$%&\\'()*+,-./:;<=>?@[\\\\]^_`{|}~\\n'"
      ]
     },
     "execution_count": 18,
     "metadata": {},
     "output_type": "execute_result"
    }
   ],
   "source": [
    "punctuation"
   ]
  },
  {
   "cell_type": "markdown",
   "id": "66dfd9c0",
   "metadata": {},
   "source": [
    "# Word frequency "
   ]
  },
  {
   "cell_type": "code",
   "execution_count": 19,
   "id": "1f1b1cf1",
   "metadata": {},
   "outputs": [],
   "source": [
    "word_frequencies = {}\n",
    "for word in doc:\n",
    "    if word.text.lower() not in stops:\n",
    "        if word.text.lower() not in punctuation:\n",
    "            if word.text not in word_frequencies.keys():\n",
    "                word_frequencies[word.text]=1\n",
    "            else:\n",
    "                word_frequencies[word.text]+=1"
   ]
  },
  {
   "cell_type": "code",
   "execution_count": 20,
   "id": "f4c44013",
   "metadata": {},
   "outputs": [
    {
     "data": {
      "text/plain": [
       "{'Machine': 3,\n",
       " 'learning': 9,\n",
       " 'ML': 1,\n",
       " 'field': 3,\n",
       " 'inquiry': 1,\n",
       " 'devoted': 1,\n",
       " 'understanding': 1,\n",
       " 'building': 1,\n",
       " 'methods': 3,\n",
       " 'learn': 1,\n",
       " 'leverage': 1,\n",
       " 'data': 5,\n",
       " 'improve': 1,\n",
       " 'performance': 1,\n",
       " 'set': 1,\n",
       " 'tasks.[1': 1,\n",
       " 'seen': 1,\n",
       " 'part': 1,\n",
       " 'artificial': 1,\n",
       " 'intelligence': 1,\n",
       " 'algorithms': 3,\n",
       " 'build': 1,\n",
       " 'model': 1,\n",
       " 'based': 1,\n",
       " 'sample': 1,\n",
       " 'known': 1,\n",
       " 'training': 1,\n",
       " 'order': 1,\n",
       " 'make': 1,\n",
       " 'predictions': 2,\n",
       " 'decisions': 1,\n",
       " 'without': 1,\n",
       " 'explicitly': 1,\n",
       " 'programmed': 1,\n",
       " 'so.[2': 1,\n",
       " 'used': 1,\n",
       " 'wide': 1,\n",
       " 'variety': 1,\n",
       " 'applications': 1,\n",
       " 'medicine': 1,\n",
       " 'email': 1,\n",
       " 'filtering': 1,\n",
       " 'speech': 1,\n",
       " 'recognition': 1,\n",
       " 'computer': 1,\n",
       " 'vision': 1,\n",
       " 'difficult': 1,\n",
       " 'unfeasible': 1,\n",
       " 'develop': 1,\n",
       " 'conventional': 1,\n",
       " 'perform': 1,\n",
       " 'needed': 1,\n",
       " 'tasks.[3': 1,\n",
       " '\\n\\n': 1,\n",
       " 'subset': 1,\n",
       " 'machine': 5,\n",
       " 'closely': 1,\n",
       " 'related': 2,\n",
       " 'computational': 1,\n",
       " 'statistics': 1,\n",
       " 'focuses': 1,\n",
       " 'making': 1,\n",
       " 'using': 1,\n",
       " 'computers': 1,\n",
       " 'statistical': 1,\n",
       " 'study': 2,\n",
       " 'mathematical': 1,\n",
       " 'optimization': 1,\n",
       " 'delivers': 1,\n",
       " 'theory': 1,\n",
       " 'application': 2,\n",
       " 'domains': 1,\n",
       " 'Data': 1,\n",
       " 'mining': 1,\n",
       " 'focusing': 1,\n",
       " 'exploratory': 1,\n",
       " 'analysis': 1,\n",
       " 'unsupervised': 1,\n",
       " 'learning.[5][6': 1,\n",
       " 'implementations': 1,\n",
       " 'use': 1,\n",
       " 'neural': 1,\n",
       " 'networks': 1,\n",
       " 'way': 1,\n",
       " 'mimics': 1,\n",
       " 'working': 1,\n",
       " 'biological': 1,\n",
       " 'brain.[7][8': 1,\n",
       " 'across': 1,\n",
       " 'business': 1,\n",
       " 'problems': 1,\n",
       " 'also': 1,\n",
       " 'referred': 1,\n",
       " 'predictive': 1,\n",
       " 'analytics': 1}"
      ]
     },
     "execution_count": 20,
     "metadata": {},
     "output_type": "execute_result"
    }
   ],
   "source": [
    "word_frequencies"
   ]
  },
  {
   "cell_type": "code",
   "execution_count": 21,
   "id": "e3104cee",
   "metadata": {},
   "outputs": [],
   "source": [
    "max_frequency = max(word_frequencies.values())"
   ]
  },
  {
   "cell_type": "code",
   "execution_count": 22,
   "id": "9a4b2fca",
   "metadata": {},
   "outputs": [
    {
     "data": {
      "text/plain": [
       "9"
      ]
     },
     "execution_count": 22,
     "metadata": {},
     "output_type": "execute_result"
    }
   ],
   "source": [
    "max_frequency"
   ]
  },
  {
   "cell_type": "code",
   "execution_count": 23,
   "id": "05a3ed04",
   "metadata": {},
   "outputs": [],
   "source": [
    "for word in word_frequencies.keys():\n",
    "    word_frequencies[word] = word_frequencies[word]/max_frequency"
   ]
  },
  {
   "cell_type": "code",
   "execution_count": 24,
   "id": "40842ad4",
   "metadata": {},
   "outputs": [
    {
     "name": "stdout",
     "output_type": "stream",
     "text": [
      "{'Machine': 0.3333333333333333, 'learning': 1.0, 'ML': 0.1111111111111111, 'field': 0.3333333333333333, 'inquiry': 0.1111111111111111, 'devoted': 0.1111111111111111, 'understanding': 0.1111111111111111, 'building': 0.1111111111111111, 'methods': 0.3333333333333333, 'learn': 0.1111111111111111, 'leverage': 0.1111111111111111, 'data': 0.5555555555555556, 'improve': 0.1111111111111111, 'performance': 0.1111111111111111, 'set': 0.1111111111111111, 'tasks.[1': 0.1111111111111111, 'seen': 0.1111111111111111, 'part': 0.1111111111111111, 'artificial': 0.1111111111111111, 'intelligence': 0.1111111111111111, 'algorithms': 0.3333333333333333, 'build': 0.1111111111111111, 'model': 0.1111111111111111, 'based': 0.1111111111111111, 'sample': 0.1111111111111111, 'known': 0.1111111111111111, 'training': 0.1111111111111111, 'order': 0.1111111111111111, 'make': 0.1111111111111111, 'predictions': 0.2222222222222222, 'decisions': 0.1111111111111111, 'without': 0.1111111111111111, 'explicitly': 0.1111111111111111, 'programmed': 0.1111111111111111, 'so.[2': 0.1111111111111111, 'used': 0.1111111111111111, 'wide': 0.1111111111111111, 'variety': 0.1111111111111111, 'applications': 0.1111111111111111, 'medicine': 0.1111111111111111, 'email': 0.1111111111111111, 'filtering': 0.1111111111111111, 'speech': 0.1111111111111111, 'recognition': 0.1111111111111111, 'computer': 0.1111111111111111, 'vision': 0.1111111111111111, 'difficult': 0.1111111111111111, 'unfeasible': 0.1111111111111111, 'develop': 0.1111111111111111, 'conventional': 0.1111111111111111, 'perform': 0.1111111111111111, 'needed': 0.1111111111111111, 'tasks.[3': 0.1111111111111111, '\\n\\n': 0.1111111111111111, 'subset': 0.1111111111111111, 'machine': 0.5555555555555556, 'closely': 0.1111111111111111, 'related': 0.2222222222222222, 'computational': 0.1111111111111111, 'statistics': 0.1111111111111111, 'focuses': 0.1111111111111111, 'making': 0.1111111111111111, 'using': 0.1111111111111111, 'computers': 0.1111111111111111, 'statistical': 0.1111111111111111, 'study': 0.2222222222222222, 'mathematical': 0.1111111111111111, 'optimization': 0.1111111111111111, 'delivers': 0.1111111111111111, 'theory': 0.1111111111111111, 'application': 0.2222222222222222, 'domains': 0.1111111111111111, 'Data': 0.1111111111111111, 'mining': 0.1111111111111111, 'focusing': 0.1111111111111111, 'exploratory': 0.1111111111111111, 'analysis': 0.1111111111111111, 'unsupervised': 0.1111111111111111, 'learning.[5][6': 0.1111111111111111, 'implementations': 0.1111111111111111, 'use': 0.1111111111111111, 'neural': 0.1111111111111111, 'networks': 0.1111111111111111, 'way': 0.1111111111111111, 'mimics': 0.1111111111111111, 'working': 0.1111111111111111, 'biological': 0.1111111111111111, 'brain.[7][8': 0.1111111111111111, 'across': 0.1111111111111111, 'business': 0.1111111111111111, 'problems': 0.1111111111111111, 'also': 0.1111111111111111, 'referred': 0.1111111111111111, 'predictive': 0.1111111111111111, 'analytics': 0.1111111111111111}\n"
     ]
    }
   ],
   "source": [
    "print(word_frequencies)"
   ]
  },
  {
   "cell_type": "code",
   "execution_count": 25,
   "id": "ef6c2f09",
   "metadata": {},
   "outputs": [],
   "source": [
    "# sentence tokenization and sentence score"
   ]
  },
  {
   "cell_type": "code",
   "execution_count": 26,
   "id": "ae82f5eb",
   "metadata": {},
   "outputs": [
    {
     "name": "stdout",
     "output_type": "stream",
     "text": [
      "[\n",
      "Machine learning (ML) is a field of inquiry devoted to understanding and building methods that 'learn', that is, methods that leverage data to improve performance on some set of tasks.[1] It is seen as a part of artificial intelligence., Machine learning algorithms build a model based on sample data, known as training data, in order to make predictions or decisions without being explicitly programmed to do so.[2] Machine learning algorithms are used in a wide variety of applications, such as in medicine, email filtering, speech recognition, and computer vision, where it is difficult or unfeasible to develop conventional algorithms to perform the needed tasks.[3]\n",
      "\n",
      "A subset of machine learning is closely related to computational statistics, which focuses on making predictions using computers, but not all machine learning is statistical learning., The study of mathematical optimization delivers methods, theory and application domains to the field of machine learning., Data mining is a related field of study, focusing on exploratory data analysis through unsupervised learning.[5][6] Some implementations of machine learning use data and neural networks in a way that mimics the working of a biological brain.[7][8], In its application across business problems, machine learning is also referred to as predictive analytics.\n",
      "]\n"
     ]
    }
   ],
   "source": [
    "sentence_tokens = [sent for sent in doc.sents]\n",
    "print(sentence_tokens)"
   ]
  },
  {
   "cell_type": "code",
   "execution_count": 27,
   "id": "28b7946f",
   "metadata": {},
   "outputs": [],
   "source": [
    "sentence_score = {}\n",
    "for sent in sentence_tokens:\n",
    "    for word in sent:\n",
    "        if word.text.lower() in word_frequencies.keys():\n",
    "            if sent not in sentence_score.keys():\n",
    "                sentence_score[sent]= word_frequencies[word.text.lower()]\n",
    "            else:\n",
    "                sentence_score[sent]+= word_frequencies[word.text.lower()]"
   ]
  },
  {
   "cell_type": "code",
   "execution_count": 28,
   "id": "0a16a95c",
   "metadata": {},
   "outputs": [
    {
     "data": {
      "text/plain": [
       "{\n",
       " Machine learning (ML) is a field of inquiry devoted to understanding and building methods that 'learn', that is, methods that leverage data to improve performance on some set of tasks.[1] It is seen as a part of artificial intelligence.: 4.666666666666665,\n",
       " Machine learning algorithms build a model based on sample data, known as training data, in order to make predictions or decisions without being explicitly programmed to do so.[2] Machine learning algorithms are used in a wide variety of applications, such as in medicine, email filtering, speech recognition, and computer vision, where it is difficult or unfeasible to develop conventional algorithms to perform the needed tasks.[3]\n",
       " \n",
       " A subset of machine learning is closely related to computational statistics, which focuses on making predictions using computers, but not all machine learning is statistical learning.: 14.555555555555541,\n",
       " The study of mathematical optimization delivers methods, theory and application domains to the field of machine learning.: 3.2222222222222223,\n",
       " Data mining is a related field of study, focusing on exploratory data analysis through unsupervised learning.[5][6] Some implementations of machine learning use data and neural networks in a way that mimics the working of a biological brain.[7][8]: 5.666666666666663,\n",
       " In its application across business problems, machine learning is also referred to as predictive analytics.: 2.555555555555556}"
      ]
     },
     "execution_count": 28,
     "metadata": {},
     "output_type": "execute_result"
    }
   ],
   "source": [
    "sentence_score"
   ]
  },
  {
   "cell_type": "code",
   "execution_count": 29,
   "id": "031f853b",
   "metadata": {},
   "outputs": [],
   "source": [
    "from heapq import nlargest"
   ]
  },
  {
   "cell_type": "code",
   "execution_count": 30,
   "id": "6eb5d599",
   "metadata": {},
   "outputs": [
    {
     "data": {
      "text/plain": [
       "1"
      ]
     },
     "execution_count": 30,
     "metadata": {},
     "output_type": "execute_result"
    }
   ],
   "source": [
    "select_length = int(len(sentence_tokens)*0.3)\n",
    "select_length"
   ]
  },
  {
   "cell_type": "markdown",
   "id": "d05638f8",
   "metadata": {},
   "source": [
    "# Summary generation"
   ]
  },
  {
   "cell_type": "code",
   "execution_count": 31,
   "id": "8ca7a4bc",
   "metadata": {},
   "outputs": [],
   "source": [
    "summary = nlargest(select_length, sentence_score, key = sentence_score.get)"
   ]
  },
  {
   "cell_type": "code",
   "execution_count": 32,
   "id": "5d1244e9",
   "metadata": {},
   "outputs": [
    {
     "name": "stdout",
     "output_type": "stream",
     "text": [
      "[Machine learning algorithms build a model based on sample data, known as training data, in order to make predictions or decisions without being explicitly programmed to do so.[2] Machine learning algorithms are used in a wide variety of applications, such as in medicine, email filtering, speech recognition, and computer vision, where it is difficult or unfeasible to develop conventional algorithms to perform the needed tasks.[3]\n",
      "\n",
      "A subset of machine learning is closely related to computational statistics, which focuses on making predictions using computers, but not all machine learning is statistical learning.]\n"
     ]
    }
   ],
   "source": [
    "print(summary)"
   ]
  },
  {
   "cell_type": "code",
   "execution_count": 33,
   "id": "b7301c2e",
   "metadata": {},
   "outputs": [],
   "source": [
    "final_summary = [word.text for word in summary]"
   ]
  },
  {
   "cell_type": "code",
   "execution_count": 34,
   "id": "01979eb5",
   "metadata": {},
   "outputs": [],
   "source": [
    "summary = ' '. join(final_summary)"
   ]
  },
  {
   "cell_type": "code",
   "execution_count": 35,
   "id": "83d11b5e",
   "metadata": {},
   "outputs": [
    {
     "name": "stdout",
     "output_type": "stream",
     "text": [
      "Machine learning algorithms build a model based on sample data, known as training data, in order to make predictions or decisions without being explicitly programmed to do so.[2] Machine learning algorithms are used in a wide variety of applications, such as in medicine, email filtering, speech recognition, and computer vision, where it is difficult or unfeasible to develop conventional algorithms to perform the needed tasks.[3]\n",
      "\n",
      "A subset of machine learning is closely related to computational statistics, which focuses on making predictions using computers, but not all machine learning is statistical learning.\n"
     ]
    }
   ],
   "source": [
    "print(summary)"
   ]
  },
  {
   "cell_type": "code",
   "execution_count": 36,
   "id": "60840bfa",
   "metadata": {},
   "outputs": [
    {
     "name": "stdout",
     "output_type": "stream",
     "text": [
      "1333\n"
     ]
    }
   ],
   "source": [
    "print(len(text))"
   ]
  },
  {
   "cell_type": "code",
   "execution_count": 37,
   "id": "35cdd2b6",
   "metadata": {},
   "outputs": [
    {
     "name": "stdout",
     "output_type": "stream",
     "text": [
      "617\n"
     ]
    }
   ],
   "source": [
    "print(len(summary))"
   ]
  },
  {
   "cell_type": "code",
   "execution_count": 38,
   "id": "2c7cea25",
   "metadata": {},
   "outputs": [],
   "source": [
    "compresion_ratio = len(summary)/len(text)"
   ]
  },
  {
   "cell_type": "code",
   "execution_count": 39,
   "id": "955333b7",
   "metadata": {},
   "outputs": [
    {
     "data": {
      "text/plain": [
       "0.4628657164291073"
      ]
     },
     "execution_count": 39,
     "metadata": {},
     "output_type": "execute_result"
    }
   ],
   "source": [
    "compresion_ratio"
   ]
  },
  {
   "cell_type": "code",
   "execution_count": null,
   "id": "a89c6874",
   "metadata": {},
   "outputs": [],
   "source": []
  }
 ],
 "metadata": {
  "kernelspec": {
   "display_name": "Python 3 (ipykernel)",
   "language": "python",
   "name": "python3"
  },
  "language_info": {
   "codemirror_mode": {
    "name": "ipython",
    "version": 3
   },
   "file_extension": ".py",
   "mimetype": "text/x-python",
   "name": "python",
   "nbconvert_exporter": "python",
   "pygments_lexer": "ipython3",
   "version": "3.9.12"
  }
 },
 "nbformat": 4,
 "nbformat_minor": 5
}
